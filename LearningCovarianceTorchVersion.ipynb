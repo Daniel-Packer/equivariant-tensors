{
 "cells": [
  {
   "cell_type": "code",
   "execution_count": 25,
   "id": "a5a1a630-55e3-43b6-97bc-8dfce68ab437",
   "metadata": {},
   "outputs": [
    {
     "name": "stdout",
     "output_type": "stream",
     "text": [
      "The autoreload extension is already loaded. To reload it, use:\n",
      "  %reload_ext autoreload\n"
     ]
    }
   ],
   "source": [
    "%load_ext autoreload\n",
    "%autoreload 2\n",
    "import torch\n",
    "import matplotlib.pyplot as plt\n",
    "import seaborn as sns\n",
    "from tqdm.notebook import tqdm\n",
    "import numpy as np"
   ]
  },
  {
   "cell_type": "code",
   "execution_count": 26,
   "id": "d8238fca-a291-4199-812a-770e3e292c1c",
   "metadata": {},
   "outputs": [
    {
     "name": "stdout",
     "output_type": "stream",
     "text": [
      "device = cuda:0\n"
     ]
    }
   ],
   "source": [
    "device = torch.device(\"cuda:0\" if torch.cuda.is_available() else \"cpu\")\n",
    "print(f\"device = {device}\")"
   ]
  },
  {
   "cell_type": "markdown",
   "id": "32ad2028-fc84-4a88-873f-696868dbd89c",
   "metadata": {},
   "source": [
    "# Using Tensor Equivariance to learn Covariance\n",
    "The covariance of $n$ vectors, $x_i \\in \\mathbb{R}^d$ is an $O(d)$ equivariant function from $\\mathbb{R}^{d \\times n} \\to \\mathbb{R}^{d \\times d}$.\n",
    "Let's see if we can learn it.\n",
    "The map we are interested in learning takes a matrix $M$ and produces $M^T \\cdot M$.\n",
    "We have (post)-composed that with the map $\\psi : \\mathbb{R}^{d\\times d}$ to make this map more interesting."
   ]
  },
  {
   "cell_type": "code",
   "execution_count": 27,
   "id": "f784dd51-a0f8-48a0-a7db-2cb6b8a5589a",
   "metadata": {},
   "outputs": [],
   "source": [
    "\n",
    "# Number of points, n\n",
    "n = 6\n",
    "# Dimension, d\n",
    "d = 4\n",
    "\n",
    "# I want to make these bigger to see what happens...\n",
    "#n = 8\n",
    "#d = 6\n",
    "\n",
    "N = 1_000\n",
    "\n",
    "psi = lambda M: M + M @ M\n",
    "\n",
    "Cov_s = []\n",
    "psi_vals = []\n",
    "G_s = []\n",
    "outers = []\n",
    "for _ in range(N): # We should generate these in a much more vectorized manner... (do you think GPT can do this?)\n",
    "    # Sample points random normally:\n",
    "    X = np.random.randn(d, n)\n",
    "    # Covariances: these are the target:\n",
    "    Cov_s.append(X @ X.T)\n",
    "    # If we make a function, these would be the target:\n",
    "    psi_vals.append(psi(X @ X.T))\n",
    "\n",
    "    # This is the gram matrix (the inputs to our function):\n",
    "    G_s.append(X.T @ X)\n",
    "    # These are the outer products, the coefficients of our function.\n",
    "    outers.append([[np.outer(X.T[i], X.T[j]) for i in range(n)] for j in range(n)])\n",
    "\n",
    "G_s = np.array(G_s)\n",
    "# Convert everything to a tensor\n",
    "Cov_s = torch.tensor(Cov_s, dtype=torch.float64)\n",
    "G_s = torch.tensor(np.concatenate([np.reshape(G_s, [N, n ** 2]), np.ones((N, 1))], axis=1), dtype=torch.float)\n",
    "outers = torch.tensor(np.reshape(outers, [N, n ** 2, d, d]), dtype=torch.float64)\n",
    "h = torch.randn(n ** 2, requires_grad=True, dtype=torch.float)"
   ]
  },
  {
   "cell_type": "code",
   "execution_count": 28,
   "id": "e491d3a1-19e6-4aad-b757-e7d9bf2c2d75",
   "metadata": {},
   "outputs": [
    {
     "data": {
      "application/vnd.jupyter.widget-view+json": {
       "model_id": "7bf9e4b11aeb4e41a0f9857fef8b00df",
       "version_major": 2,
       "version_minor": 0
      },
      "text/plain": [
       "  0%|          | 0/2000 [00:00<?, ?it/s]"
      ]
     },
     "metadata": {},
     "output_type": "display_data"
    },
    {
     "data": {
      "text/plain": [
       "[<matplotlib.lines.Line2D at 0x7efe90927e50>]"
      ]
     },
     "execution_count": 28,
     "metadata": {},
     "output_type": "execute_result"
    },
    {
     "data": {
      "image/png": "[encoded data removed]",
      "text/plain": [
       "<Figure size 640x480 with 1 Axes>"
      ]
     },
     "metadata": {},
     "output_type": "display_data"
    }
   ],
   "source": [
    "# Create a leaf tensor with the same shape\n",
    "f_ij = torch.empty(n ** 2, n ** 2 + 1, dtype=torch.float32, device=device, requires_grad=True)\n",
    "\n",
    "# Initialize the leaf tensor with the desired values\n",
    "with torch.no_grad():\n",
    "    f_ij.copy_(torch.randn(n ** 2, n ** 2 + 1, dtype=torch.float32, device=device) / ((n ** 2) * (n ** 2 + 1)))\n",
    "\n",
    "# GPT teaching me so much\n",
    "# Put everything on GPU?\n",
    "f_ij = f_ij.to(device)\n",
    "G_s = G_s.to(device)\n",
    "outers = outers.to(device)\n",
    "Cov_s = Cov_s.to(device)\n",
    "\n",
    "# Yeah I am trying to make it work on device \n",
    "\n",
    "\n",
    "n_epochs = 2_000\n",
    "# Currently, had to pick a really small learning rate for stability?!\n",
    "lr = 0.0001\n",
    "\n",
    "# Currently, not batching, will batch later:\n",
    "batch_size = 1000\n",
    "loss_hist = []\n",
    "\n",
    "\n",
    "\n",
    "def F(f_ij, G_s, outers):\n",
    "    f_ij_x = torch.tensordot(f_ij, G_s, dims=([1], [1])).transpose(1, 0).unsqueeze(2).unsqueeze(3)\n",
    "    preds = torch.sum(f_ij_x * outers, dim=1)\n",
    "    return preds\n",
    "\n",
    "optimizer = torch.optim.SGD([f_ij], lr=lr)\n",
    "\n",
    "for _ in tqdm(range(n_epochs)):\n",
    "    optimizer.zero_grad()\n",
    "    preds = F(f_ij, G_s, outers)\n",
    "    loss = torch.norm(preds - Cov_s).pow(2) / N\n",
    "    loss.backward()\n",
    "    optimizer.step()\n",
    "    loss_hist.append(loss.item())\n",
    "\n",
    "plt.plot(np.log10(np.array(loss_hist) / loss_hist[0]))\n"
   ]
  },
  {
   "cell_type": "code",
   "execution_count": 29,
   "id": "6e870eed-b658-469c-930b-5cc7452b784c",
   "metadata": {},
   "outputs": [
    {
     "data": {
      "text/plain": [
       "<AxesSubplot:>"
      ]
     },
     "execution_count": 29,
     "metadata": {},
     "output_type": "execute_result"
    },
    {
     "data": {
      "image/png": "[encoded data removed]",
      "text/plain": [
       "<Figure size 640x480 with 2 Axes>"
      ]
     },
     "metadata": {},
     "output_type": "display_data"
    }
   ],
   "source": [
    "sns.heatmap(np.round(f_ij.cpu().data, 3))"
   ]
  },
  {
   "cell_type": "code",
   "execution_count": 30,
   "id": "00f34f42-022f-47aa-b40d-91fbfb10ee52",
   "metadata": {},
   "outputs": [
    {
     "data": {
      "text/plain": [
       "tensor(0.6166)"
      ]
     },
     "execution_count": 30,
     "metadata": {},
     "output_type": "execute_result"
    }
   ],
   "source": [
    "f_ij.cpu().data.max()"
   ]
  },
  {
   "cell_type": "code",
   "execution_count": null,
   "id": "c939fe1c-c76d-4041-ab12-f313a35826f6",
   "metadata": {},
   "outputs": [],
   "source": []
  },
  {
   "cell_type": "code",
   "execution_count": null,
   "id": "cadbf37c-bdc9-42ef-956a-01f9bd8c9d91",
   "metadata": {},
   "outputs": [],
   "source": []
  },
  {
   "cell_type": "code",
   "execution_count": null,
   "id": "d5b90558-fafc-4d46-a902-40bf605281b8",
   "metadata": {},
   "outputs": [],
   "source": []
  },
  {
   "cell_type": "code",
   "execution_count": null,
   "id": "ece85591-6fac-4ed8-bb60-b534cc263945",
   "metadata": {},
   "outputs": [],
   "source": []
  }
 ],
 "metadata": {
  "kernelspec": {
   "display_name": "Python 3 (ipykernel)",
   "language": "python",
   "name": "python3"
  },
  "language_info": {
   "codemirror_mode": {
    "name": "ipython",
    "version": 3
   },
   "file_extension": ".py",
   "mimetype": "text/x-python",
   "name": "python",
   "nbconvert_exporter": "python",
   "pygments_lexer": "ipython3",
   "version": "3.7.12"
  }
 },
 "nbformat": 4,
 "nbformat_minor": 5
}
