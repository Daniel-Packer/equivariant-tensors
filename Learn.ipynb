{
 "cells": [
  {
   "cell_type": "code",
   "execution_count": 22,
   "id": "d3bff839-ef88-4e77-b6b4-9dd442ff2459",
   "metadata": {},
   "outputs": [
    {
     "name": "stdout",
     "output_type": "stream",
     "text": [
      "The autoreload extension is already loaded. To reload it, use:\n",
      "  %reload_ext autoreload\n"
     ]
    }
   ],
   "source": [
    "%load_ext autoreload\n",
    "%autoreload 2\n",
    "import matplotlib.pyplot as plt\n",
    "import seaborn as sns\n",
    "from tqdm.notebook import tqdm\n",
    "import numpy as np\n",
    "from mpl_toolkits.mplot3d import Axes3D\n",
    "import pickle as pkl\n",
    "\n",
    "import seaborn as sns\n",
    "import torch"
   ]
  },
  {
   "cell_type": "code",
   "execution_count": 2,
   "id": "26c9f5ab-5244-4692-9ba3-bc335ddcdd01",
   "metadata": {},
   "outputs": [
    {
     "name": "stdout",
     "output_type": "stream",
     "text": [
      "device = cuda:0\n"
     ]
    }
   ],
   "source": [
    "device = torch.device(\"cuda:0\" if torch.cuda.is_available() else \"cpu\")\n",
    "print(f\"device = {device}\")"
   ]
  },
  {
   "cell_type": "code",
   "execution_count": 3,
   "id": "cb926702-c85d-4dc7-8644-992517d0728e",
   "metadata": {},
   "outputs": [
    {
     "name": "stdout",
     "output_type": "stream",
     "text": [
      "[[-0.77103926 -0.58911206 -0.24175492]\n",
      " [ 0.27038991 -0.64660657  0.71329464]\n",
      " [-0.57653079  0.48461008  0.65784901]]\n"
     ]
    }
   ],
   "source": [
    "from Example import generate_charge_arrangement, make_S_all_steps"
   ]
  },
  {
   "cell_type": "code",
   "execution_count": 4,
   "id": "06d518ff-cf70-432f-aeef-215d4d7fa772",
   "metadata": {},
   "outputs": [],
   "source": [
    "# Parameters\n",
    "N_train = 100\n",
    "N_test = 100\n",
    "n = 4\n",
    "batch_size = 1\n",
    "num_workers = 4\n",
    "\n",
    "# Parameter\n",
    "hidden_size = 10\n",
    "output_size = 9\n",
    "input_size = 3 * (2 * n + 1)\n",
    "learning_rate = 0.001\n",
    "num_epochs = 1000\n",
    "\n",
    "# Generating the training data:\n",
    "source_positions, source_velocities, source_charges, target_positions = generate_charge_arrangement(N_train, n)\n",
    "S = make_S_all_steps(source_positions, source_charges, source_velocities, target_positions)\n",
    "\n",
    "train_source_positions = np.stack([source_positions for _ in range(N_train)])\n",
    "train_source_velocities = np.stack([source_velocities for _ in range(N_train)])\n",
    "train_source_charges = np.stack([source_charges for _ in range(N_train)])\n",
    "train_target_positions = target_positions.reshape(N_train, 1, 3)\n",
    "\n",
    "traindata = np.concatenate([train_source_positions, train_source_velocities, train_target_positions], axis = 1)\n",
    "trainvalues = S\n",
    "\n",
    "traindata = torch.Tensor(traindata)\n",
    "trainvalues = torch.Tensor(trainvalues)\n",
    "\n",
    "# Generating the training data:\n",
    "source_positions, source_velocities, source_charges, target_positions = generate_charge_arrangement(N_test, n)\n",
    "S = make_S_all_steps(source_positions, source_charges, source_velocities, target_positions)\n",
    "\n",
    "test_source_positions = np.stack([source_positions for _ in range(N_test)])\n",
    "test_source_velocities = np.stack([source_velocities for _ in range(N_test)])\n",
    "test_source_charges = np.stack([source_charges for _ in range(N_test)])\n",
    "test_target_positions = target_positions.reshape(N_test, 1, 3)\n",
    "\n",
    "testdata = np.concatenate([test_source_positions, test_source_velocities, test_target_positions], axis = 1)\n",
    "testvalues = S\n",
    "\n",
    "testdata = torch.Tensor(testdata)\n",
    "testvalues = torch.Tensor(testvalues)"
   ]
  },
  {
   "cell_type": "code",
   "execution_count": null,
   "id": "652aebfa-dafe-4db1-a3c6-c5cf27b98596",
   "metadata": {},
   "outputs": [],
   "source": []
  },
  {
   "cell_type": "code",
   "execution_count": null,
   "id": "7877c49a-0aa3-44b3-8564-cd84408f3568",
   "metadata": {},
   "outputs": [],
   "source": []
  },
  {
   "cell_type": "code",
   "execution_count": 5,
   "id": "7ceb632e-548f-49d8-96f0-e941a274aac7",
   "metadata": {},
   "outputs": [],
   "source": [
    "import torch\n",
    "from torch.utils.data import Dataset, DataLoader\n",
    "\n",
    "class MyDataset(Dataset):\n",
    "    def __init__(self, data, values):\n",
    "        self.data = data\n",
    "        self.values = values\n",
    "        \n",
    "    def __len__(self):\n",
    "        return len(self.data)\n",
    "    \n",
    "    def __getitem__(self, idx):\n",
    "        return self.data[idx], self.values[idx]\n",
    "    \n",
    "trainset = MyDataset(traindata,trainvalues)#\n",
    "#testset = MyDataset(testdata,test)\n",
    "    \n",
    "trainloader = DataLoader(trainset, batch_size=batch_size, shuffle=True)\n",
    "#testloader = DataLoader(testset, batch_size=batch_size, shuffle=True, num_workers=num_workers,pin_memory=True)"
   ]
  },
  {
   "cell_type": "code",
   "execution_count": null,
   "id": "9da549ff-3fad-4da1-afd7-109ffcdf3c05",
   "metadata": {},
   "outputs": [],
   "source": []
  },
  {
   "cell_type": "code",
   "execution_count": 6,
   "id": "2154154d-987a-4e5e-a3f5-15674d316306",
   "metadata": {},
   "outputs": [
    {
     "data": {
      "application/vnd.jupyter.widget-view+json": {
       "model_id": "583ec6ba757f491d811d2e43f0a05fd5",
       "version_major": 2,
       "version_minor": 0
      },
      "text/plain": [
       "  0%|          | 0/1000 [00:00<?, ?it/s]"
      ]
     },
     "metadata": {},
     "output_type": "display_data"
    },
    {
     "name": "stdout",
     "output_type": "stream",
     "text": [
      "Finished Training\n",
      "Final loss : 0.7756795287132263\n"
     ]
    }
   ],
   "source": [
    "import torch\n",
    "import torch.nn as nn\n",
    "import torch.optim as optim\n",
    "\n",
    "class MyNet(nn.Module):\n",
    "    def __init__(self, input_size, hidden_size, output_size):\n",
    "        super(MyNet, self).__init__()\n",
    "        self.fc1 = nn.Linear(input_size, hidden_size)\n",
    "        self.relu = nn.ReLU()\n",
    "        self.fc2 = nn.Linear(hidden_size, output_size)\n",
    "        \n",
    "    def forward(self, x):\n",
    "        x = x.reshape(batch_size, -1)\n",
    "        x = self.fc1(x)\n",
    "        x = self.relu(x)\n",
    "        x = self.fc2(x)\n",
    "        return x\n",
    "\n",
    "\n",
    "net = MyNet(input_size, hidden_size, output_size).to(device)\n",
    "criterion = nn.MSELoss()\n",
    "optimizer = optim.Adam(net.parameters(), lr=learning_rate)\n",
    "\n",
    "# Training loop\n",
    "for epoch in tqdm(range(num_epochs)):\n",
    "    running_loss = 0.0\n",
    "    for i, (inputs, values) in enumerate(trainloader, 0):\n",
    "        inputs = inputs.to(device)\n",
    "        values = values.to(device)\n",
    "          \n",
    "        optimizer.zero_grad()\n",
    "        \n",
    "        outputs = net(inputs)\n",
    "        loss = criterion(outputs, values.reshape(batch_size, -1))\n",
    "        loss.backward()\n",
    "        optimizer.step()\n",
    "        \n",
    "        running_loss += loss.item()\n",
    "    \n",
    "    # print(f'Epoch {epoch+1}, Loss: {running_loss / (i+1)}')\n",
    "\n",
    "print('Finished Training')\n",
    "print(f'Final loss : {loss.item()}')"
   ]
  },
  {
   "cell_type": "code",
   "execution_count": 7,
   "id": "2f0ab1a5-ab8c-4517-8ed9-03557337578d",
   "metadata": {},
   "outputs": [],
   "source": [
    "output_size = 81"
   ]
  },
  {
   "cell_type": "code",
   "execution_count": 18,
   "id": "4c5b75c9-c9c5-4f86-9dc6-0b3a4d9f3834",
   "metadata": {},
   "outputs": [
    {
     "data": {
      "application/vnd.jupyter.widget-view+json": {
       "model_id": "60d5fd117e594730a05eca3872e381b9",
       "version_major": 2,
       "version_minor": 0
      },
      "text/plain": [
       "  0%|          | 0/1000 [00:00<?, ?it/s]"
      ]
     },
     "metadata": {},
     "output_type": "display_data"
    },
    {
     "name": "stdout",
     "output_type": "stream",
     "text": [
      "Finished Training\n",
      "Final loss : 0.2741965651512146\n"
     ]
    }
   ],
   "source": [
    "class MyNet(nn.Module):\n",
    "    def __init__(self, input_size, hidden_size, output_size):\n",
    "        super(MyNet, self).__init__()\n",
    "        self.fc1 = nn.Linear(input_size, hidden_size)\n",
    "        self.relu = nn.ReLU()\n",
    "        self.fc2 = nn.Linear(hidden_size, output_size)\n",
    "        \n",
    "    def forward(self, x):\n",
    "        s = torch.bmm(x, x.transpose(1,2))\n",
    "        s = s.reshape(batch_size, -1)\n",
    "        s = self.fc1(s)\n",
    "        s = self.relu(s)\n",
    "        s = self.fc2(s)\n",
    "        s = s.reshape(batch_size, 9, 9, 1, 1)\n",
    "        outer =  x[:, :, None, :, None] * x[:, None, :, None, :]\n",
    "        out = torch.sum(s*outer,axis=(1,2))\n",
    "        out = out.reshape(batch_size,-1) \n",
    "        return out\n",
    "    \n",
    "\n",
    "input_size = (2 * n + 1) ** 2\n",
    "net = MyNet(input_size, hidden_size, output_size).to(device)\n",
    "criterion = nn.MSELoss()\n",
    "optimizer = optim.Adam(net.parameters(), lr=learning_rate)\n",
    "\n",
    "# Training loop\n",
    "for epoch in tqdm(range(num_epochs)):\n",
    "    running_loss = 0.0\n",
    "    for i, (inputs, values) in enumerate(trainloader, 0):\n",
    "        inputs = inputs.to(device)\n",
    "        values = values.to(device)\n",
    "        values = values.reshape(batch_size, -1)\n",
    "          \n",
    "        optimizer.zero_grad()\n",
    "        \n",
    "        outputs = net(inputs)\n",
    "        loss = criterion(outputs, values)\n",
    "        loss.backward()\n",
    "        optimizer.step()\n",
    "        \n",
    "        running_loss += loss.item()\n",
    "    \n",
    "    # print(f'Epoch {epoch+1}, Loss: {running_loss / (i+1)}')\n",
    "\n",
    "print('Finished Training')\n",
    "print(f'Final loss : {loss.item()}')"
   ]
  },
  {
   "cell_type": "code",
   "execution_count": 19,
   "id": "60243ede-ce26-44e6-8837-372c745d8b04",
   "metadata": {},
   "outputs": [],
   "source": [
    "# not sure what this mean, both the losses are big...\n",
    "# maybe having 100 hidden size is just too much...\n",
    "\n",
    "# Yeah, I think so too. It could be "
   ]
  },
  {
   "cell_type": "code",
   "execution_count": 20,
   "id": "92c2ed7d-8796-4156-b3b0-c346fc8d708b",
   "metadata": {},
   "outputs": [
    {
     "data": {
      "text/plain": [
       "MyNet(\n",
       "  (fc1): Linear(in_features=81, out_features=10, bias=True)\n",
       "  (relu): ReLU()\n",
       "  (fc2): Linear(in_features=10, out_features=81, bias=True)\n",
       ")"
      ]
     },
     "execution_count": 20,
     "metadata": {},
     "output_type": "execute_result"
    }
   ],
   "source": [
    "net"
   ]
  },
  {
   "cell_type": "code",
   "execution_count": 23,
   "id": "be8550de-85bc-4512-80f6-1e1c54f67c2e",
   "metadata": {},
   "outputs": [
    {
     "data": {
      "image/png": "[encoded data removed]",
      "text/plain": [
       "<Figure size 640x480 with 2 Axes>"
      ]
     },
     "metadata": {},
     "output_type": "display_data"
    }
   ],
   "source": [
    "# Get the weights of fc1\n",
    "weights = net.fc1.weight.data\n",
    "\n",
    "# Plot the weights as an image\n",
    "sns.heatmap(weights.cpu().numpy(), cmap='gray')\n",
    "plt.show()"
   ]
  },
  {
   "cell_type": "code",
   "execution_count": null,
   "id": "e0eb144b-a221-4465-882f-3dfcc9ca4697",
   "metadata": {},
   "outputs": [],
   "source": []
  },
  {
   "cell_type": "code",
   "execution_count": null,
   "id": "eb8182e8-666b-49a6-85bd-dd8892608e2c",
   "metadata": {},
   "outputs": [],
   "source": []
  }
 ],
 "metadata": {
  "kernelspec": {
   "display_name": "Python 3 (ipykernel)",
   "language": "python",
   "name": "python3"
  },
  "language_info": {
   "codemirror_mode": {
    "name": "ipython",
    "version": 3
   },
   "file_extension": ".py",
   "mimetype": "text/x-python",
   "name": "python",
   "nbconvert_exporter": "python",
   "pygments_lexer": "ipython3",
   "version": "3.7.12"
  }
 },
 "nbformat": 4,
 "nbformat_minor": 5
}
